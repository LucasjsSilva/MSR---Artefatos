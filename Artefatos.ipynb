{
  "cells": [
    {
      "cell_type": "markdown",
      "metadata": {},
      "source": [
        "Instalações de Bibliotecas e Dependencias"
      ]
    },
    {
      "cell_type": "code",
      "execution_count": null,
      "metadata": {
        "collapsed": true,
        "id": "HYkAH1Tf__CA"
      },
      "outputs": [],
      "source": [
        "%pip install perceval\n",
        "%pip install perceval python-gitlab\n",
        "%pip install gitpython\n",
        "%pip install PyGithub\n",
        "%pip install --upgrade perceval"
      ]
    },
    {
      "cell_type": "markdown",
      "metadata": {},
      "source": [
        "Clone do Repositorio"
      ]
    },
    {
      "cell_type": "code",
      "execution_count": null,
      "metadata": {
        "colab": {
          "base_uri": "https://localhost:8080/"
        },
        "id": "Wsk-f2bxkenY",
        "outputId": "e3530c8a-7296-4ba8-a751-cbf0d99b42fc"
      },
      "outputs": [],
      "source": [
        "!git clone https://github.com/XRPLF/rippled.git"
      ]
    },
    {
      "cell_type": "markdown",
      "metadata": {},
      "source": [
        "Extração dos Commits do Repositorio Clonado"
      ]
    },
    {
      "cell_type": "code",
      "execution_count": null,
      "metadata": {
        "id": "RWhB12CTzMsE"
      },
      "outputs": [],
      "source": [
        "!perceval git rippled --branches develop -o commits.json"
      ]
    },
    {
      "cell_type": "markdown",
      "metadata": {},
      "source": [
        "Extração dos Pulls Requests Diretamente do Repositorio Remoto"
      ]
    },
    {
      "cell_type": "code",
      "execution_count": null,
      "metadata": {},
      "outputs": [],
      "source": [
        "!perceval github XRPLF rippled --category pull_request -o pulls.json --api-token"
      ]
    },
    {
      "cell_type": "markdown",
      "metadata": {},
      "source": [
        "Extração das Issues Diretamente do Repositorio Remoto"
      ]
    },
    {
      "cell_type": "code",
      "execution_count": null,
      "metadata": {
        "id": "uumEpqkhywyr"
      },
      "outputs": [],
      "source": [
        "!perceval github XRPLF rippled --category issue -o issues.json --sleep-for-rate --api-token "
      ]
    },
    {
      "cell_type": "markdown",
      "metadata": {},
      "source": [
        "Codigo para corrigir os arquivos .json retornados pelo Perceval"
      ]
    },
    {
      "cell_type": "code",
      "execution_count": 33,
      "metadata": {
        "colab": {
          "base_uri": "https://localhost:8080/",
          "height": 35
        },
        "id": "7-P_3DnnnQ-u",
        "outputId": "da6ab1ab-4f89-4eb9-99f4-7adf0b158720"
      },
      "outputs": [],
      "source": [
        "# Função para adicionar vírgulas após fechamentos de chaves se necessário\n",
        "def corrigirJsonVirgulas(inputFile, outputFile):\n",
        "    correctedLines = []\n",
        "    with open(inputFile, \"r\") as file:\n",
        "        lines = file.readlines()\n",
        "\n",
        "        # Adiciona o \"[\" na primeira linha\n",
        "        correctedLines.append(\"[\\n\")\n",
        "\n",
        "        for i in range(len(lines)):\n",
        "            line = lines[i].strip()\n",
        "\n",
        "            # Verifica se a linha termina com \"}\" e se a próxima linha não começa com \"]\" ou é o fim do arquivo\n",
        "            if line.endswith(\"}\") and i < len(lines) - 1:\n",
        "                nextLine = lines[i + 1].strip()\n",
        "\n",
        "                # Se a próxima linha não for \"]\" ou o fim, adiciona uma vírgula\n",
        "                if not (nextLine.startswith(\"]\") or nextLine.startswith(\"}\") or nextLine == \"\"):\n",
        "                    correctedLines.append(line + \",\\n\")\n",
        "                else:\n",
        "                    correctedLines.append(line + \"\\n\")\n",
        "            else:\n",
        "                correctedLines.append(lines[i])\n",
        "\n",
        "        # Adiciona o \"]\" na última linha\n",
        "        correctedLines.append(\"]\\n\")\n",
        "\n",
        "    # Escreve o arquivo corrigido\n",
        "    with open(outputFile, \"w\") as outputFile:\n",
        "        outputFile.writelines(correctedLines)\n",
        "\n",
        "# Chama a função para corrigir o arquivo\n",
        "corrigirJsonVirgulas(\"commits.json\", \"commits_correct.json\")\n",
        "corrigirJsonVirgulas(\"pulls.json\", \"pulls_correct.json\")\n",
        "corrigirJsonVirgulas(\"issues.json\", \"issues_corrected.json\")"
      ]
    },
    {
      "cell_type": "markdown",
      "metadata": {},
      "source": [
        "Código para pegar o Top-5 com mais commits"
      ]
    },
    {
      "cell_type": "code",
      "execution_count": 12,
      "metadata": {
        "colab": {
          "base_uri": "https://localhost:8080/"
        },
        "id": "_3eF-vxonxUU",
        "outputId": "949dd82f-9353-4a99-91d8-6eb741a1d3b9"
      },
      "outputs": [
        {
          "name": "stdout",
          "output_type": "stream",
          "text": [
            "Autor: JoelKatz <DavidJoelSchwartz@GMail.com>, Commits: 4424\n",
            "Autor: Vinnie Falco <vinnie.falco@gmail.com>, Commits: 2719\n",
            "Autor: Arthur Britto <ahbritto@gmail.com>, Commits: 1744\n",
            "Autor: Nik Bougalis <nikb@bougalis.net>, Commits: 704\n",
            "Autor: seelabs <scott.determan@yahoo.com>, Commits: 344\n"
          ]
        }
      ],
      "source": [
        "import json\n",
        "from collections import Counter\n",
        "\n",
        "with open('commits_corrected.json') as f:\n",
        "    commits = json.load(f)\n",
        "\n",
        "authorCounter = Counter()\n",
        "\n",
        "for commit in commits:\n",
        "    author = commit['data']['Author']\n",
        "    authorCounter[author] += 1\n",
        "\n",
        "top5Authors = authorCounter.most_common(5)\n",
        "\n",
        "for author, count in top5Authors:\n",
        "    print(f\"Autor: {author}, Commits: {count}\")\n"
      ]
    },
    {
      "cell_type": "markdown",
      "metadata": {},
      "source": [
        "Código para pegar o Top-5 arquivos modificados"
      ]
    },
    {
      "cell_type": "code",
      "execution_count": 13,
      "metadata": {
        "colab": {
          "base_uri": "https://localhost:8080/"
        },
        "id": "hGWIQwx1rKRu",
        "outputId": "8547dcef-80fd-455a-d0e2-9758dc689e3c"
      },
      "outputs": [
        {
          "name": "stdout",
          "output_type": "stream",
          "text": [
            "Arquivo: src/ripple/protocol/impl/BuildInfo.cpp, Modificações: 485\n",
            "Arquivo: src/cpp/ripple/RPCHandler.cpp, Modificações: 319\n",
            "Arquivo: Builds/VisualStudio2013/RippleD.vcxproj, Modificações: 317\n",
            "Arquivo: Builds/VisualStudio2013/RippleD.vcxproj.filters, Modificações: 313\n",
            "Arquivo: src/ripple/app/misc/NetworkOPs.cpp, Modificações: 301\n"
          ]
        }
      ],
      "source": [
        "with open('commits_corrected.json') as f:\n",
        "    commits = json.load(f)\n",
        "\n",
        "arquivosCounter = Counter()\n",
        "\n",
        "for commit in commits:\n",
        "    if 'Merge' not in commit['data']:\n",
        "        arquivos = commit['data']['files']\n",
        "        for arquivo in arquivos:\n",
        "            if arquivo['action'] == \"M\":\n",
        "                arquivo = arquivo['file']\n",
        "                arquivosCounter[arquivo] += 1\n",
        "\n",
        "top5Arquivos = arquivosCounter.most_common(5)\n",
        "\n",
        "for arquivo, count in top5Arquivos:\n",
        "    print(f\"Arquivo: {arquivo}, Modificações: {count}\")\n"
      ]
    },
    {
      "cell_type": "markdown",
      "metadata": {},
      "source": [
        "Código para pegar a media de arquivos por commit"
      ]
    },
    {
      "cell_type": "code",
      "execution_count": 34,
      "metadata": {
        "colab": {
          "base_uri": "https://localhost:8080/"
        },
        "id": "rJMXNGAVwKGY",
        "outputId": "83b3aa97-680f-4f1b-850f-2e94f6093701"
      },
      "outputs": [
        {
          "name": "stdout",
          "output_type": "stream",
          "text": [
            "Número de commits: 13158\n",
            "Número de arquivos: 126907\n",
            "Média de Arquivos por Commits: 10\n"
          ]
        }
      ],
      "source": [
        "with open('commits_correct.json') as f:\n",
        "    commits = json.load(f)\n",
        "\n",
        "commitsCounter = 0\n",
        "arquivosCounter = 0\n",
        "\n",
        "for commit in commits:\n",
        "    commitsCounter += 1\n",
        "    arquivos = commit['data']['files']\n",
        "    for arquivo in arquivos:\n",
        "        arquivosCounter += 1\n",
        "\n",
        "print(f\"Número de commits: {commitsCounter}\")\n",
        "print(f\"Número de arquivos: {arquivosCounter}\")\n",
        "print(f\"Média de Arquivos por Commits: {round(arquivosCounter / commitsCounter)}\")\n"
      ]
    },
    {
      "cell_type": "markdown",
      "metadata": {},
      "source": [
        "Código para pegar a media de dias para fechar uma issue."
      ]
    },
    {
      "cell_type": "code",
      "execution_count": 36,
      "metadata": {},
      "outputs": [
        {
          "name": "stdout",
          "output_type": "stream",
          "text": [
            "Média de dias para fechar uma issue: 378.\n"
          ]
        }
      ],
      "source": [
        "from datetime import datetime\n",
        "\n",
        "with open('issues_correct.json') as f:\n",
        "    issues = json.load(f)\n",
        "\n",
        "issuesCounter = 0\n",
        "count = 0\n",
        "\n",
        "for issue in issues:\n",
        "    if 'pull_request' not in issue['data'] and issue['data']['state'] == 'closed':\n",
        "        issuesCounter += 1\n",
        "        dataCriacao = datetime.strptime(issue['data']['created_at'], \"%Y-%m-%dT%H:%M:%SZ\")\n",
        "        dataClosed = datetime.strptime(issue['data']['closed_at'], \"%Y-%m-%dT%H:%M:%SZ\")\n",
        "\n",
        "        tempo = dataClosed - dataCriacao\n",
        "        count += tempo.days  \n",
        "\n",
        "print(f\"Média de dias para fechar uma issue: {round(count // issuesCounter)}.\")\n"
      ]
    },
    {
      "cell_type": "markdown",
      "metadata": {},
      "source": [
        "Código para pegar o percentual de issues fechadas associadas a commits."
      ]
    },
    {
      "cell_type": "code",
      "execution_count": 44,
      "metadata": {},
      "outputs": [
        {
          "name": "stdout",
          "output_type": "stream",
          "text": [
            "Percentual de issues fechadas associadas a commits: 27.74%\n"
          ]
        }
      ],
      "source": [
        "with open('issues_correct.json') as f:\n",
        "    issues = json.load(f)\n",
        "\n",
        "with open('commits_correct.json') as f:\n",
        "    commits = json.load(f)\n",
        "\n",
        "closedIssues = [issue for issue in issues if issue['data']['state'] == 'closed']\n",
        "\n",
        "commitsWithIssues = set()\n",
        "for commit in commits:\n",
        "    if 'message' in commit['data']:\n",
        "        message = commit['data']['message']\n",
        "        for issue in closedIssues:\n",
        "            issueNumber = f\"#{issue['data']['number']}\"\n",
        "            if issueNumber in message:\n",
        "                commitsWithIssues.add(issue['data']['number'])\n",
        "\n",
        "totalClosedIssues = len(closedIssues)\n",
        "closedIssuesWithCommits = len(commitsWithIssues)\n",
        "\n",
        "if totalClosedIssues > 0:\n",
        "    percentual = (closedIssuesWithCommits / totalClosedIssues) * 100\n",
        "    print(f\"Percentual de issues fechadas associadas a commits: {percentual:.2f}%\")\n"
      ]
    },
    {
      "cell_type": "markdown",
      "metadata": {},
      "source": [
        "Código implementando o algoritmo SZZ simplificado."
      ]
    },
    {
      "cell_type": "code",
      "execution_count": 88,
      "metadata": {},
      "outputs": [
        {
          "name": "stdout",
          "output_type": "stream",
          "text": [
            "O commit que introduzio o Bug foi: f74b469e6832db56fc286bf49bf1e5bdb01b93b1\n"
          ]
        }
      ],
      "source": [
        "import json\n",
        "from datetime import datetime\n",
        "\n",
        "with open('issues_correct.json') as f:\n",
        "    issues = json.load(f)\n",
        "\n",
        "with open('commits_correct.json') as f:\n",
        "    commits = json.load(f)\n",
        "\n",
        "issuesCounter = 0\n",
        "count = 0\n",
        "datas = []\n",
        "criacoes = []\n",
        "issuesNumbers = []\n",
        "\n",
        "for issue in issues:\n",
        "    labels = issue['data']['labels']\n",
        "    for label in labels:\n",
        "        if label['name'] == 'Bug':\n",
        "            if 'pull_request' not in issue['data'] and issue['data']['state'] == 'closed':   \n",
        "                issuesCounter += 1\n",
        "                dataCriacao = datetime.strptime(issue['data']['created_at'], \"%Y-%m-%dT%H:%M:%SZ\")\n",
        "                dataClosed = datetime.strptime(issue['data']['closed_at'], \"%Y-%m-%dT%H:%M:%SZ\")\n",
        "\n",
        "                datas.append(dataClosed - dataCriacao)\n",
        "                criacoes.append(dataCriacao)\n",
        "                issuesNumbers.append(issue['data']['number'])\n",
        "\n",
        "if len(datas) > 0:\n",
        "    idxMenorDiferenca = datas.index(min(datas))\n",
        "    dataMenorTempo = criacoes[idxMenorDiferenca]\n",
        "    numeroIssueEscolhida = f\"#{issuesNumbers[idxMenorDiferenca]}\"\n",
        "\n",
        "commitsWithIssues = set()\n",
        "for commit in commits:\n",
        "    if numeroIssueEscolhida in commit['data']['message']:\n",
        "        arquivos = commit['data']['files']\n",
        "        for arquivo in arquivos:\n",
        "            if arquivo['action'] == 'M':\n",
        "                arquivoModificado = arquivo['file']\n",
        "\n",
        "encontrou = False\n",
        "for commit in reversed(commits):\n",
        "    dataCommit = datetime.strptime(commit['data']['CommitDate'], \"%a %b %d %H:%M:%S %Y %z\")\n",
        "    dataCommit = dataCommit.strftime(\"%Y-%m-%d %H:%M:%S\")  \n",
        "    dataCommit = datetime.strptime(dataCommit, \"%Y-%m-%d %H:%M:%S\")\n",
        "    if dataCommit < dataMenorTempo:        \n",
        "        arquivos = commit['data']['files']\n",
        "        for arquivo in arquivos:    \n",
        "            if arquivoModificado == arquivo['file']:\n",
        "                encontrou = True\n",
        "                print(f\"O commit que introduziu o Bug foi: {commit['data']['commit']}\")\n",
        "    if encontrou:\n",
        "        break\n"
      ]
    },
    {
      "cell_type": "markdown",
      "metadata": {},
      "source": [
        "Código para pegar a media de comentarios por issue."
      ]
    },
    {
      "cell_type": "code",
      "execution_count": 35,
      "metadata": {
        "colab": {
          "base_uri": "https://localhost:8080/"
        },
        "id": "q_5U5M9J4v7S",
        "outputId": "8c2b517e-2c19-4a92-e983-8ead563aca3f"
      },
      "outputs": [
        {
          "name": "stdout",
          "output_type": "stream",
          "text": [
            "Número de issues: 1391\n",
            "Número de comentarios: 5533\n",
            "Media de comentarios por issue: 4\n"
          ]
        }
      ],
      "source": [
        "import json\n",
        "\n",
        "with open('issues_correct.json') as f:\n",
        "    issues = json.load(f)\n",
        "\n",
        "issuesCounter = 0\n",
        "comentariosCounter = 0 \n",
        "\n",
        "for issue in issues:\n",
        "    if 'pull_request' not in issue['data']:\n",
        "        issuesCounter += 1\n",
        "        comentariosCounter += issue['data']['comments']\n",
        "\n",
        "print(f\"Número de issues: {issuesCounter}\")\n",
        "print(f\"Número de comentários: {comentariosCounter}\")\n",
        "print(f\"Média de comentários por issue: {round(comentariosCounter / issuesCounter)}\")\n"
      ]
    }
  ],
  "metadata": {
    "colab": {
      "provenance": []
    },
    "kernelspec": {
      "display_name": "Python 3",
      "name": "python3"
    },
    "language_info": {
      "codemirror_mode": {
        "name": "ipython",
        "version": 3
      },
      "file_extension": ".py",
      "mimetype": "text/x-python",
      "name": "python",
      "nbconvert_exporter": "python",
      "pygments_lexer": "ipython3",
      "version": "3.12.4"
    }
  },
  "nbformat": 4,
  "nbformat_minor": 0
}
